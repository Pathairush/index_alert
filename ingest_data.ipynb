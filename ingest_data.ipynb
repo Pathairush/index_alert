{
 "cells": [
  {
   "cell_type": "code",
   "execution_count": 3,
   "metadata": {},
   "outputs": [],
   "source": [
    "import yfinance as yf\n",
    "import pandas as pd\n",
    "import time"
   ]
  },
  {
   "cell_type": "code",
   "execution_count": 5,
   "metadata": {},
   "outputs": [],
   "source": [
    "# ticker_list = ['^HSI', '^GSPC', '^IXIC', '^DJI', '^N225', '^SET.BK']\n",
    "ticker_list = ['^GSPC']\n",
    "for ticker in ticker_list:\n",
    "    \n",
    "    index = yf.Ticker(ticker)\n",
    "    data = index.history(period='5y').reset_index()\n",
    "    time.sleep(1)\n",
    "    data.to_csv(f'./data/{ticker}_5y.csv', index=False, header=True)"
   ]
  },
  {
   "cell_type": "code",
   "execution_count": null,
   "metadata": {},
   "outputs": [],
   "source": []
  }
 ],
 "metadata": {
  "interpreter": {
   "hash": "862402ab22ed8250ebdc2f6f94525e458b9b5ca20090fe9dd2003b460905668d"
  },
  "kernelspec": {
   "display_name": "Python 3.7.5 ('index_alert')",
   "language": "python",
   "name": "python3"
  },
  "language_info": {
   "codemirror_mode": {
    "name": "ipython",
    "version": 3
   },
   "file_extension": ".py",
   "mimetype": "text/x-python",
   "name": "python",
   "nbconvert_exporter": "python",
   "pygments_lexer": "ipython3",
   "version": "3.7.5"
  },
  "orig_nbformat": 4
 },
 "nbformat": 4,
 "nbformat_minor": 2
}
