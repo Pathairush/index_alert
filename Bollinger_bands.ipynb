{
  "nbformat": 4,
  "nbformat_minor": 0,
  "metadata": {
    "colab": {
      "name": "Bollinger bands",
      "provenance": [],
      "collapsed_sections": [],
      "authorship_tag": "ABX9TyNHIE85SQGlDTTBpad/BaDq",
      "include_colab_link": true
    },
    "kernelspec": {
      "name": "python3",
      "display_name": "Python 3"
    },
    "language_info": {
      "name": "python"
    }
  },
  "cells": [
    {
      "cell_type": "markdown",
      "metadata": {
        "id": "view-in-github",
        "colab_type": "text"
      },
      "source": [
        "<a href=\"https://colab.research.google.com/github/Pathairush/index_alert/blob/main/Bollinger_bands.ipynb\" target=\"_parent\"><img src=\"https://colab.research.google.com/assets/colab-badge.svg\" alt=\"Open In Colab\"/></a>"
      ]
    },
    {
      "cell_type": "code",
      "source": [
        "!pip install yfinance -q"
      ],
      "metadata": {
        "colab": {
          "base_uri": "https://localhost:8080/"
        },
        "id": "MOEioWvQG0Pq",
        "outputId": "3cc485fd-8bf5-42a7-b35c-b52f1f681a05"
      },
      "execution_count": null,
      "outputs": [
        {
          "output_type": "stream",
          "name": "stdout",
          "text": [
            "\u001b[K     |████████████████████████████████| 6.4 MB 7.6 MB/s \n",
            "\u001b[K     |████████████████████████████████| 63 kB 1.8 MB/s \n",
            "\u001b[31mERROR: pip's dependency resolver does not currently take into account all the packages that are installed. This behaviour is the source of the following dependency conflicts.\n",
            "google-colab 1.0.0 requires requests~=2.23.0, but you have requests 2.27.1 which is incompatible.\n",
            "datascience 0.10.6 requires folium==0.2.1, but you have folium 0.8.3 which is incompatible.\u001b[0m\n",
            "\u001b[?25h"
          ]
        }
      ]
    },
    {
      "cell_type": "code",
      "execution_count": null,
      "metadata": {
        "id": "ENxCRYcTGd-3"
      },
      "outputs": [],
      "source": [
        "import yfinance as yf\n",
        "import pandas as pd\n",
        "import numpy as np\n",
        "import datetime"
      ]
    },
    {
      "cell_type": "markdown",
      "source": [
        "# Module"
      ],
      "metadata": {
        "id": "rTFOl6FdNoyU"
      }
    },
    {
      "cell_type": "code",
      "source": [
        "from operator import xor\n",
        "class BollinergerBands():\n",
        "\n",
        "    def __init__(self, rolling_period: int, stddev_boundary: int):\n",
        "        \n",
        "        self.rolling_period = rolling_period\n",
        "        self.stddev_boundary = stddev_boundary\n",
        "        self.fitted_data = None\n",
        "\n",
        "    @staticmethod\n",
        "    def _get_column_name(X: pd.DataFrame) -> list:\n",
        "        X.columns = [c.lower() for c in X.columns]\n",
        "        return X.columns.tolist()\n",
        "\n",
        "    def _check_required_columns(self, X: pd.DataFrame):\n",
        "        \n",
        "        input_column_names = self._get_column_name(X)\n",
        "        required_columns = ['date', 'high', 'low', 'close']\n",
        "        for col in required_columns:\n",
        "            if col not in input_column_names:\n",
        "                raise ValueError(f\"Expect: {required_columns}, Found: {input_column_names}\")\n",
        "        return True\n",
        "\n",
        "    def _check_minimum_period(self):\n",
        "\n",
        "        pass\n",
        "\n",
        "    def _preprocess_data(self, data: pd.DataFrame):\n",
        "\n",
        "        # calculate typical price\n",
        "        data.loc[:, 'typical_price'] = (data['high'] + data['low'] + data['close']) / 3\n",
        "\n",
        "        # calculate simple moving average\n",
        "        data.loc[:, f'sma_{self.rolling_period}'] = data['typical_price'].rolling(self.rolling_period).mean()\n",
        "        data.loc[:, f'std_{self.rolling_period}'] = data['typical_price'].rolling(self.rolling_period).std()\n",
        "\n",
        "        # calculate bollinger bands\n",
        "        data.loc[:, 'bolu'] = data[f'sma_{self.rolling_period}'] + self.stddev_boundary * data[f'std_{self.rolling_period}']\n",
        "        data.loc[:, 'bold'] = data[f'sma_{self.rolling_period}'] - self.stddev_boundary * data[f'std_{self.rolling_period}']\n",
        "\n",
        "        # use T-1 day bollinger band as a trigger criteria\n",
        "        data.loc[:, 'bolu_yesterday'] = data['bolu'].shift(1)\n",
        "        data.loc[:, 'bold_yesterday'] = data['bold'].shift(1)\n",
        "\n",
        "        # drop rows doesn't have enough data point the rolling period\n",
        "        data = data[data[f'sma_{self.rolling_period}'].notna()].copy()\n",
        "\n",
        "        # calculate historical trigger (day)\n",
        "        data.loc[:, 'trigger'] = np.where(~data['close'].between(data['bold_yesterday'], data['bolu_yesterday']), 1, 0)\n",
        "        data.loc[:, 'trigger_bolu'] = np.where(data['close'] > data['bolu_yesterday'], 1, 0)\n",
        "        data.loc[:, 'trigger_bold'] = np.where(data['close'] < data['bold_yesterday'], 1, 0)\n",
        "\n",
        "        # calculate percent change of index\n",
        "        data.loc[:, 'close_yesterday'] = data['close'].shift(1)\n",
        "        data.loc[:, 'pct_index_change'] = ((data['close'] / data['close_yesterday']) - 1) * 100\n",
        "\n",
        "        # calcualte year month for notificaiton reports\n",
        "        data.loc[:, 'year'] = data['date'].dt.year\n",
        "        data.loc[:, 'year_month'] = data['date'].dt.strftime(\"%Y-%m\")\n",
        "\n",
        "        self.fitted_data = data\n",
        "\n",
        "        return data\n",
        "\n",
        "    def fit(self, X: pd.DataFrame):\n",
        "\n",
        "        assert self._check_required_columns(X) == True\n",
        "\n",
        "        X = self._preprocess_data(X)\n",
        "\n",
        "        self.bold = float(X.tail(1)['bold'].values)\n",
        "        self.bolu = float(X.tail(1)['bolu'].values)\n",
        "\n",
        "    def plot_bollinger_bands(self):\n",
        "        \n",
        "        if self.fitted_data is None:\n",
        "            raise ValueError('Fitted data is not found, please call `fit` method')\n",
        "        \n",
        "        (\n",
        "            self.fitted_data\n",
        "            .loc[:, ['date','typical_price','bolu','bold']]\n",
        "            .set_index('date')\n",
        "            .plot.line(figsize=(9,6))\n",
        "        );"
      ],
      "metadata": {
        "id": "S9fg8C6_NqtZ"
      },
      "execution_count": null,
      "outputs": []
    },
    {
      "cell_type": "markdown",
      "source": [
        "# Back test report"
      ],
      "metadata": {
        "id": "Yp4QJvusPXwa"
      }
    },
    {
      "cell_type": "code",
      "source": [
        "index = yf.Ticker('^HSI')\n",
        "data = index.history(period='5y').reset_index()\n",
        "\n",
        "# input\n",
        "model = BollinergerBands(rolling_period = 365, stddev_boundary = 2)\n",
        "model.fit(X = data)"
      ],
      "metadata": {
        "id": "6qlr0DxFHHJ_"
      },
      "execution_count": null,
      "outputs": []
    },
    {
      "cell_type": "code",
      "source": [
        "model.bold"
      ],
      "metadata": {
        "colab": {
          "base_uri": "https://localhost:8080/"
        },
        "id": "xnBtVOMaWpNv",
        "outputId": "2e859b90-e8d2-4275-ca48-429f1f542384"
      },
      "execution_count": null,
      "outputs": [
        {
          "output_type": "execute_result",
          "data": {
            "text/plain": [
              "21047.440663491932"
            ]
          },
          "metadata": {},
          "execution_count": 48
        }
      ]
    },
    {
      "cell_type": "code",
      "source": [
        "model.bolu"
      ],
      "metadata": {
        "colab": {
          "base_uri": "https://localhost:8080/"
        },
        "id": "do46tFAhajgI",
        "outputId": "cbfd9268-6d7b-4e87-da16-8eefb0d32b56"
      },
      "execution_count": null,
      "outputs": [
        {
          "output_type": "execute_result",
          "data": {
            "text/plain": [
              "31173.976202946422"
            ]
          },
          "metadata": {},
          "execution_count": 49
        }
      ]
    },
    {
      "cell_type": "code",
      "source": [
        "model.plot_bollinger_bands()"
      ],
      "metadata": {
        "colab": {
          "base_uri": "https://localhost:8080/",
          "height": 375
        },
        "id": "Xeiz1S_LJ69q",
        "outputId": "7daf3814-0a79-47dd-d54d-a82f6a2e69cb"
      },
      "execution_count": null,
      "outputs": [
        {
          "output_type": "display_data",
          "data": {
            "text/plain": [
              "<Figure size 648x432 with 1 Axes>"
            ],
            "image/png": "[encoded data removed]"
          },
          "metadata": {
            "needs_background": "light"
          }
        }
      ]
    },
    {
      "cell_type": "code",
      "source": [
        "# number of trigger per year\n",
        "data.groupby('year').agg({'trigger':'sum'}).plot.bar(figsize=(9,6));"
      ],
      "metadata": {
        "colab": {
          "base_uri": "https://localhost:8080/",
          "height": 403
        },
        "id": "o0IoOQUtML-L",
        "outputId": "9b4db397-9348-4b3e-e904-65b00d002d65"
      },
      "execution_count": null,
      "outputs": [
        {
          "output_type": "display_data",
          "data": {
            "text/plain": [
              "<Figure size 648x432 with 1 Axes>"
            ],
            "image/png": "[encoded data removed]"
          },
          "metadata": {
            "needs_background": "light"
          }
        }
      ]
    },
    {
      "cell_type": "code",
      "source": [
        "# overall trigger\n",
        "data.groupby('year_month').agg({'trigger':'sum'}).plot.bar(figsize=(12,6));"
      ],
      "metadata": {
        "colab": {
          "base_uri": "https://localhost:8080/",
          "height": 421
        },
        "id": "RxqHv2uGMdFP",
        "outputId": "8c9e9c6e-2be2-4b3a-8c31-dd971ed3a9cb"
      },
      "execution_count": null,
      "outputs": [
        {
          "output_type": "display_data",
          "data": {
            "text/plain": [
              "<Figure size 864x432 with 1 Axes>"
            ],
            "image/png": "[encoded data removed]"
          },
          "metadata": {
            "needs_background": "light"
          }
        }
      ]
    },
    {
      "cell_type": "code",
      "source": [
        "# upside trigger\n",
        "data.groupby('year_month').agg({'trigger_bolu':'sum'}).plot.bar(figsize=(12,6));"
      ],
      "metadata": {
        "colab": {
          "base_uri": "https://localhost:8080/",
          "height": 421
        },
        "id": "wKiQ3XNINwEs",
        "outputId": "751ea999-92dc-4514-a54f-de03ee6fc878"
      },
      "execution_count": null,
      "outputs": [
        {
          "output_type": "display_data",
          "data": {
            "text/plain": [
              "<Figure size 864x432 with 1 Axes>"
            ],
            "image/png": "[encoded data removed]"
          },
          "metadata": {
            "needs_background": "light"
          }
        }
      ]
    },
    {
      "cell_type": "code",
      "source": [
        "# drawdown trigger\n",
        "data.groupby('year_month').agg({'trigger_bold':'sum'}).plot.bar(figsize=(12,6));"
      ],
      "metadata": {
        "colab": {
          "base_uri": "https://localhost:8080/",
          "height": 421
        },
        "id": "wcwKutWiIXbO",
        "outputId": "2095fca7-774f-49de-a15c-659736038963"
      },
      "execution_count": null,
      "outputs": [
        {
          "output_type": "display_data",
          "data": {
            "text/plain": [
              "<Figure size 864x432 with 1 Axes>"
            ],
            "image/png": "[encoded data removed]"
          },
          "metadata": {
            "needs_background": "light"
          }
        }
      ]
    },
    {
      "cell_type": "markdown",
      "source": [
        "# Update daily\n",
        "\n",
        "- all closing price in that day will compare to previous [bold, bolu] boundary."
      ],
      "metadata": {
        "id": "JP5Kz7nNOBa2"
      }
    },
    {
      "cell_type": "code",
      "source": [
        "data.head()"
      ],
      "metadata": {
        "colab": {
          "base_uri": "https://localhost:8080/",
          "height": 404
        },
        "id": "8ki1OdzjQSr1",
        "outputId": "9dffb09a-54eb-4f57-ca86-deb5ebb1e8ce"
      },
      "execution_count": null,
      "outputs": [
        {
          "output_type": "execute_result",
          "data": {
            "text/plain": [
              "        Date          Open          High           Low         Close  \\\n",
              "0 2018-10-12  25401.410156  25835.759766  25286.859375  25801.490234   \n",
              "1 2018-10-15  25683.589844  25683.589844  25399.539062  25445.060547   \n",
              "2 2018-10-16  25586.160156  25712.130859  25266.539062  25462.259766   \n",
              "3 2018-10-18  25674.660156  25674.660156  25261.720703  25454.550781   \n",
              "4 2018-10-19  25172.029297  25743.449219  25090.300781  25561.400391   \n",
              "\n",
              "       Volume  Dividends  Stock Splits  typical_price       sma_365  ...  \\\n",
              "0  2099313400          0             0   25641.369792  28561.588490  ...   \n",
              "1  1614888500          0             0   25509.396484  28565.446106  ...   \n",
              "2  1467251700          0             0   25480.309896  28568.484591  ...   \n",
              "3  1764725000          0             0   25463.643880  28570.913287  ...   \n",
              "4  2037871700          0             0   25465.050130  28573.218411  ...   \n",
              "\n",
              "           bold  bolu_yesterday  bold_yesterday  trigger  trigger_bolu  \\\n",
              "0  24536.488902             NaN             NaN        1             0   \n",
              "1  24554.819160    32586.688078    24536.488902        0             0   \n",
              "2  24568.937614    32576.073053    24554.819160        0             0   \n",
              "3  24580.020484    32568.031568    24568.937614        0             0   \n",
              "4  24590.506732    32561.806089    24580.020484        0             0   \n",
              "\n",
              "   trigger_bold  close_yesterday  pct_index_change  year  year_month  \n",
              "0             0              NaN               NaN  2018     2018-10  \n",
              "1             0     25801.490234         -1.381431  2018     2018-10  \n",
              "2             0     25445.060547          0.067594  2018     2018-10  \n",
              "3             0     25462.259766         -0.030276  2018     2018-10  \n",
              "4             0     25454.550781          0.419766  2018     2018-10  \n",
              "\n",
              "[5 rows x 22 columns]"
            ],
            "text/html": [
              "\n",
              "  <div id=\"df-84ef4db7-4f2f-47af-b886-4b344a407f1e\">\n",
              "    <div class=\"colab-df-container\">\n",
              "      <div>\n",
              "<style scoped>\n",
              "    .dataframe tbody tr th:only-of-type {\n",
              "        vertical-align: middle;\n",
              "    }\n",
              "\n",
              "    .dataframe tbody tr th {\n",
              "        vertical-align: top;\n",
              "    }\n",
              "\n",
              "    .dataframe thead th {\n",
              "        text-align: right;\n",
              "    }\n",
              "</style>\n",
              "<table border=\"1\" class=\"dataframe\">\n",
              "  <thead>\n",
              "    <tr style=\"text-align: right;\">\n",
              "      <th></th>\n",
              "      <th>Date</th>\n",
              "      <th>Open</th>\n",
              "      <th>High</th>\n",
              "      <th>Low</th>\n",
              "      <th>Close</th>\n",
              "      <th>Volume</th>\n",
              "      <th>Dividends</th>\n",
              "      <th>Stock Splits</th>\n",
              "      <th>typical_price</th>\n",
              "      <th>sma_365</th>\n",
              "      <th>...</th>\n",
              "      <th>bold</th>\n",
              "      <th>bolu_yesterday</th>\n",
              "      <th>bold_yesterday</th>\n",
              "      <th>trigger</th>\n",
              "      <th>trigger_bolu</th>\n",
              "      <th>trigger_bold</th>\n",
              "      <th>close_yesterday</th>\n",
              "      <th>pct_index_change</th>\n",
              "      <th>year</th>\n",
              "      <th>year_month</th>\n",
              "    </tr>\n",
              "  </thead>\n",
              "  <tbody>\n",
              "    <tr>\n",
              "      <th>0</th>\n",
              "      <td>2018-10-12</td>\n",
              "      <td>25401.410156</td>\n",
              "      <td>25835.759766</td>\n",
              "      <td>25286.859375</td>\n",
              "      <td>25801.490234</td>\n",
              "      <td>2099313400</td>\n",
              "      <td>0</td>\n",
              "      <td>0</td>\n",
              "      <td>25641.369792</td>\n",
              "      <td>28561.588490</td>\n",
              "      <td>...</td>\n",
              "      <td>24536.488902</td>\n",
              "      <td>NaN</td>\n",
              "      <td>NaN</td>\n",
              "      <td>1</td>\n",
              "      <td>0</td>\n",
              "      <td>0</td>\n",
              "      <td>NaN</td>\n",
              "      <td>NaN</td>\n",
              "      <td>2018</td>\n",
              "      <td>2018-10</td>\n",
              "    </tr>\n",
              "    <tr>\n",
              "      <th>1</th>\n",
              "      <td>2018-10-15</td>\n",
              "      <td>25683.589844</td>\n",
              "      <td>25683.589844</td>\n",
              "      <td>25399.539062</td>\n",
              "      <td>25445.060547</td>\n",
              "      <td>1614888500</td>\n",
              "      <td>0</td>\n",
              "      <td>0</td>\n",
              "      <td>25509.396484</td>\n",
              "      <td>28565.446106</td>\n",
              "      <td>...</td>\n",
              "      <td>24554.819160</td>\n",
              "      <td>32586.688078</td>\n",
              "      <td>24536.488902</td>\n",
              "      <td>0</td>\n",
              "      <td>0</td>\n",
              "      <td>0</td>\n",
              "      <td>25801.490234</td>\n",
              "      <td>-1.381431</td>\n",
              "      <td>2018</td>\n",
              "      <td>2018-10</td>\n",
              "    </tr>\n",
              "    <tr>\n",
              "      <th>2</th>\n",
              "      <td>2018-10-16</td>\n",
              "      <td>25586.160156</td>\n",
              "      <td>25712.130859</td>\n",
              "      <td>25266.539062</td>\n",
              "      <td>25462.259766</td>\n",
              "      <td>1467251700</td>\n",
              "      <td>0</td>\n",
              "      <td>0</td>\n",
              "      <td>25480.309896</td>\n",
              "      <td>28568.484591</td>\n",
              "      <td>...</td>\n",
              "      <td>24568.937614</td>\n",
              "      <td>32576.073053</td>\n",
              "      <td>24554.819160</td>\n",
              "      <td>0</td>\n",
              "      <td>0</td>\n",
              "      <td>0</td>\n",
              "      <td>25445.060547</td>\n",
              "      <td>0.067594</td>\n",
              "      <td>2018</td>\n",
              "      <td>2018-10</td>\n",
              "    </tr>\n",
              "    <tr>\n",
              "      <th>3</th>\n",
              "      <td>2018-10-18</td>\n",
              "      <td>25674.660156</td>\n",
              "      <td>25674.660156</td>\n",
              "      <td>25261.720703</td>\n",
              "      <td>25454.550781</td>\n",
              "      <td>1764725000</td>\n",
              "      <td>0</td>\n",
              "      <td>0</td>\n",
              "      <td>25463.643880</td>\n",
              "      <td>28570.913287</td>\n",
              "      <td>...</td>\n",
              "      <td>24580.020484</td>\n",
              "      <td>32568.031568</td>\n",
              "      <td>24568.937614</td>\n",
              "      <td>0</td>\n",
              "      <td>0</td>\n",
              "      <td>0</td>\n",
              "      <td>25462.259766</td>\n",
              "      <td>-0.030276</td>\n",
              "      <td>2018</td>\n",
              "      <td>2018-10</td>\n",
              "    </tr>\n",
              "    <tr>\n",
              "      <th>4</th>\n",
              "      <td>2018-10-19</td>\n",
              "      <td>25172.029297</td>\n",
              "      <td>25743.449219</td>\n",
              "      <td>25090.300781</td>\n",
              "      <td>25561.400391</td>\n",
              "      <td>2037871700</td>\n",
              "      <td>0</td>\n",
              "      <td>0</td>\n",
              "      <td>25465.050130</td>\n",
              "      <td>28573.218411</td>\n",
              "      <td>...</td>\n",
              "      <td>24590.506732</td>\n",
              "      <td>32561.806089</td>\n",
              "      <td>24580.020484</td>\n",
              "      <td>0</td>\n",
              "      <td>0</td>\n",
              "      <td>0</td>\n",
              "      <td>25454.550781</td>\n",
              "      <td>0.419766</td>\n",
              "      <td>2018</td>\n",
              "      <td>2018-10</td>\n",
              "    </tr>\n",
              "  </tbody>\n",
              "</table>\n",
              "<p>5 rows × 22 columns</p>\n",
              "</div>\n",
              "      <button class=\"colab-df-convert\" onclick=\"convertToInteractive('df-84ef4db7-4f2f-47af-b886-4b344a407f1e')\"\n",
              "              title=\"Convert this dataframe to an interactive table.\"\n",
              "              style=\"display:none;\">\n",
              "        \n",
              "  <svg xmlns=\"http://www.w3.org/2000/svg\" height=\"24px\"viewBox=\"0 0 24 24\"\n",
              "       width=\"24px\">\n",
              "    <path d=\"M0 0h24v24H0V0z\" fill=\"none\"/>\n",
              "    <path d=\"M18.56 5.44l.94 2.06.94-2.06 2.06-.94-2.06-.94-.94-2.06-.94 2.06-2.06.94zm-11 1L8.5 8.5l.94-2.06 2.06-.94-2.06-.94L8.5 2.5l-.94 2.06-2.06.94zm10 10l.94 2.06.94-2.06 2.06-.94-2.06-.94-.94-2.06-.94 2.06-2.06.94z\"/><path d=\"M17.41 7.96l-1.37-1.37c-.4-.4-.92-.59-1.43-.59-.52 0-1.04.2-1.43.59L10.3 9.45l-7.72 7.72c-.78.78-.78 2.05 0 2.83L4 21.41c.39.39.9.59 1.41.59.51 0 1.02-.2 1.41-.59l7.78-7.78 2.81-2.81c.8-.78.8-2.07 0-2.86zM5.41 20L4 18.59l7.72-7.72 1.47 1.35L5.41 20z\"/>\n",
              "  </svg>\n",
              "      </button>\n",
              "      \n",
              "  <style>\n",
              "    .colab-df-container {\n",
              "      display:flex;\n",
              "      flex-wrap:wrap;\n",
              "      gap: 12px;\n",
              "    }\n",
              "\n",
              "    .colab-df-convert {\n",
              "      background-color: #E8F0FE;\n",
              "      border: none;\n",
              "      border-radius: 50%;\n",
              "      cursor: pointer;\n",
              "      display: none;\n",
              "      fill: #1967D2;\n",
              "      height: 32px;\n",
              "      padding: 0 0 0 0;\n",
              "      width: 32px;\n",
              "    }\n",
              "\n",
              "    .colab-df-convert:hover {\n",
              "      background-color: #E2EBFA;\n",
              "      box-shadow: 0px 1px 2px rgba(60, 64, 67, 0.3), 0px 1px 3px 1px rgba(60, 64, 67, 0.15);\n",
              "      fill: #174EA6;\n",
              "    }\n",
              "\n",
              "    [theme=dark] .colab-df-convert {\n",
              "      background-color: #3B4455;\n",
              "      fill: #D2E3FC;\n",
              "    }\n",
              "\n",
              "    [theme=dark] .colab-df-convert:hover {\n",
              "      background-color: #434B5C;\n",
              "      box-shadow: 0px 1px 3px 1px rgba(0, 0, 0, 0.15);\n",
              "      filter: drop-shadow(0px 1px 2px rgba(0, 0, 0, 0.3));\n",
              "      fill: #FFFFFF;\n",
              "    }\n",
              "  </style>\n",
              "\n",
              "      <script>\n",
              "        const buttonEl =\n",
              "          document.querySelector('#df-84ef4db7-4f2f-47af-b886-4b344a407f1e button.colab-df-convert');\n",
              "        buttonEl.style.display =\n",
              "          google.colab.kernel.accessAllowed ? 'block' : 'none';\n",
              "\n",
              "        async function convertToInteractive(key) {\n",
              "          const element = document.querySelector('#df-84ef4db7-4f2f-47af-b886-4b344a407f1e');\n",
              "          const dataTable =\n",
              "            await google.colab.kernel.invokeFunction('convertToInteractive',\n",
              "                                                     [key], {});\n",
              "          if (!dataTable) return;\n",
              "\n",
              "          const docLinkHtml = 'Like what you see? Visit the ' +\n",
              "            '<a target=\"_blank\" href=https://colab.research.google.com/notebooks/data_table.ipynb>data table notebook</a>'\n",
              "            + ' to learn more about interactive tables.';\n",
              "          element.innerHTML = '';\n",
              "          dataTable['output_type'] = 'display_data';\n",
              "          await google.colab.output.renderOutput(dataTable, element);\n",
              "          const docLink = document.createElement('div');\n",
              "          docLink.innerHTML = docLinkHtml;\n",
              "          element.appendChild(docLink);\n",
              "        }\n",
              "      </script>\n",
              "    </div>\n",
              "  </div>\n",
              "  "
            ]
          },
          "metadata": {},
          "execution_count": 170
        }
      ]
    },
    {
      "cell_type": "code",
      "source": [
        "data[['Date','Close','pct_index_change','bold_yesterday', 'bolu_yesterday','trigger', 'trigger_bold', 'trigger_bolu']].tail(20)"
      ],
      "metadata": {
        "colab": {
          "base_uri": "https://localhost:8080/",
          "height": 721
        },
        "id": "1OS6IkljPfBd",
        "outputId": "afa877fb-69cc-4f7f-d24f-4cad10fb8e1f"
      },
      "execution_count": null,
      "outputs": [
        {
          "output_type": "execute_result",
          "data": {
            "text/plain": [
              "          Date         Close  pct_index_change  bold_yesterday  \\\n",
              "849 2022-03-23  22154.080078          1.209728    21586.253022   \n",
              "850 2022-03-24  21945.949219         -0.939470    21572.901312   \n",
              "851 2022-03-25  21404.880859         -2.465459    21557.942424   \n",
              "852 2022-03-28  21684.970703          1.308533    21535.247729   \n",
              "853 2022-03-29  21927.630859          1.119025    21510.296867   \n",
              "854 2022-03-30  22232.029297          1.388196    21488.509142   \n",
              "855 2022-03-31  21996.849609         -1.057842    21469.761926   \n",
              "856 2022-04-01  22039.550781          0.194124    21448.934788   \n",
              "857 2022-04-04  22502.310547          2.099679    21425.809172   \n",
              "858 2022-04-06  22080.519531         -1.874434    21406.462972   \n",
              "859 2022-04-07  21808.980469         -1.229768    21383.098893   \n",
              "860 2022-04-08  21872.009766          0.289006    21360.267340   \n",
              "861 2022-04-11  21208.300781         -3.034513    21334.903792   \n",
              "862 2022-04-12  21319.130859          0.522579    21302.360849   \n",
              "863 2022-04-13  21374.369141          0.259102    21269.426434   \n",
              "864 2022-04-14  21518.080078          0.672352    21236.280054   \n",
              "865 2022-04-19  21027.759766         -2.278643    21205.457949   \n",
              "866 2022-04-20  20944.669922         -0.395144    21167.928222   \n",
              "867 2022-04-21  20682.220703         -1.253060    21130.905411   \n",
              "868 2022-04-22  20638.519531         -0.211298    21089.776323   \n",
              "\n",
              "     bolu_yesterday  trigger  trigger_bold  trigger_bolu  \n",
              "849    30928.647270        0             0             0  \n",
              "850    30935.260147        0             0             0  \n",
              "851    30942.810633        1             1             0  \n",
              "852    30954.600872        0             0             0  \n",
              "853    30967.126057        0             0             0  \n",
              "854    30977.514952        0             0             0  \n",
              "855    30985.787225        0             0             0  \n",
              "856    30995.112957        0             0             0  \n",
              "857    31005.663088        0             0             0  \n",
              "858    31013.321050        0             0             0  \n",
              "859    31022.741293        0             0             0  \n",
              "860    31032.771201        0             0             0  \n",
              "861    31044.023463        1             1             0  \n",
              "862    31058.733144        0             0             0  \n",
              "863    31073.767452        0             0             0  \n",
              "864    31088.167403        0             0             0  \n",
              "865    31101.280996        1             1             0  \n",
              "866    31117.885373        1             1             0  \n",
              "867    31134.427548        1             1             0  \n",
              "868    31153.542077        1             1             0  "
            ],
            "text/html": [
              "\n",
              "  <div id=\"df-031b0c8b-ea73-4f44-b3fb-b1e67dd5886e\">\n",
              "    <div class=\"colab-df-container\">\n",
              "      <div>\n",
              "<style scoped>\n",
              "    .dataframe tbody tr th:only-of-type {\n",
              "        vertical-align: middle;\n",
              "    }\n",
              "\n",
              "    .dataframe tbody tr th {\n",
              "        vertical-align: top;\n",
              "    }\n",
              "\n",
              "    .dataframe thead th {\n",
              "        text-align: right;\n",
              "    }\n",
              "</style>\n",
              "<table border=\"1\" class=\"dataframe\">\n",
              "  <thead>\n",
              "    <tr style=\"text-align: right;\">\n",
              "      <th></th>\n",
              "      <th>Date</th>\n",
              "      <th>Close</th>\n",
              "      <th>pct_index_change</th>\n",
              "      <th>bold_yesterday</th>\n",
              "      <th>bolu_yesterday</th>\n",
              "      <th>trigger</th>\n",
              "      <th>trigger_bold</th>\n",
              "      <th>trigger_bolu</th>\n",
              "    </tr>\n",
              "  </thead>\n",
              "  <tbody>\n",
              "    <tr>\n",
              "      <th>849</th>\n",
              "      <td>2022-03-23</td>\n",
              "      <td>22154.080078</td>\n",
              "      <td>1.209728</td>\n",
              "      <td>21586.253022</td>\n",
              "      <td>30928.647270</td>\n",
              "      <td>0</td>\n",
              "      <td>0</td>\n",
              "      <td>0</td>\n",
              "    </tr>\n",
              "    <tr>\n",
              "      <th>850</th>\n",
              "      <td>2022-03-24</td>\n",
              "      <td>21945.949219</td>\n",
              "      <td>-0.939470</td>\n",
              "      <td>21572.901312</td>\n",
              "      <td>30935.260147</td>\n",
              "      <td>0</td>\n",
              "      <td>0</td>\n",
              "      <td>0</td>\n",
              "    </tr>\n",
              "    <tr>\n",
              "      <th>851</th>\n",
              "      <td>2022-03-25</td>\n",
              "      <td>21404.880859</td>\n",
              "      <td>-2.465459</td>\n",
              "      <td>21557.942424</td>\n",
              "      <td>30942.810633</td>\n",
              "      <td>1</td>\n",
              "      <td>1</td>\n",
              "      <td>0</td>\n",
              "    </tr>\n",
              "    <tr>\n",
              "      <th>852</th>\n",
              "      <td>2022-03-28</td>\n",
              "      <td>21684.970703</td>\n",
              "      <td>1.308533</td>\n",
              "      <td>21535.247729</td>\n",
              "      <td>30954.600872</td>\n",
              "      <td>0</td>\n",
              "      <td>0</td>\n",
              "      <td>0</td>\n",
              "    </tr>\n",
              "    <tr>\n",
              "      <th>853</th>\n",
              "      <td>2022-03-29</td>\n",
              "      <td>21927.630859</td>\n",
              "      <td>1.119025</td>\n",
              "      <td>21510.296867</td>\n",
              "      <td>30967.126057</td>\n",
              "      <td>0</td>\n",
              "      <td>0</td>\n",
              "      <td>0</td>\n",
              "    </tr>\n",
              "    <tr>\n",
              "      <th>854</th>\n",
              "      <td>2022-03-30</td>\n",
              "      <td>22232.029297</td>\n",
              "      <td>1.388196</td>\n",
              "      <td>21488.509142</td>\n",
              "      <td>30977.514952</td>\n",
              "      <td>0</td>\n",
              "      <td>0</td>\n",
              "      <td>0</td>\n",
              "    </tr>\n",
              "    <tr>\n",
              "      <th>855</th>\n",
              "      <td>2022-03-31</td>\n",
              "      <td>21996.849609</td>\n",
              "      <td>-1.057842</td>\n",
              "      <td>21469.761926</td>\n",
              "      <td>30985.787225</td>\n",
              "      <td>0</td>\n",
              "      <td>0</td>\n",
              "      <td>0</td>\n",
              "    </tr>\n",
              "    <tr>\n",
              "      <th>856</th>\n",
              "      <td>2022-04-01</td>\n",
              "      <td>22039.550781</td>\n",
              "      <td>0.194124</td>\n",
              "      <td>21448.934788</td>\n",
              "      <td>30995.112957</td>\n",
              "      <td>0</td>\n",
              "      <td>0</td>\n",
              "      <td>0</td>\n",
              "    </tr>\n",
              "    <tr>\n",
              "      <th>857</th>\n",
              "      <td>2022-04-04</td>\n",
              "      <td>22502.310547</td>\n",
              "      <td>2.099679</td>\n",
              "      <td>21425.809172</td>\n",
              "      <td>31005.663088</td>\n",
              "      <td>0</td>\n",
              "      <td>0</td>\n",
              "      <td>0</td>\n",
              "    </tr>\n",
              "    <tr>\n",
              "      <th>858</th>\n",
              "      <td>2022-04-06</td>\n",
              "      <td>22080.519531</td>\n",
              "      <td>-1.874434</td>\n",
              "      <td>21406.462972</td>\n",
              "      <td>31013.321050</td>\n",
              "      <td>0</td>\n",
              "      <td>0</td>\n",
              "      <td>0</td>\n",
              "    </tr>\n",
              "    <tr>\n",
              "      <th>859</th>\n",
              "      <td>2022-04-07</td>\n",
              "      <td>21808.980469</td>\n",
              "      <td>-1.229768</td>\n",
              "      <td>21383.098893</td>\n",
              "      <td>31022.741293</td>\n",
              "      <td>0</td>\n",
              "      <td>0</td>\n",
              "      <td>0</td>\n",
              "    </tr>\n",
              "    <tr>\n",
              "      <th>860</th>\n",
              "      <td>2022-04-08</td>\n",
              "      <td>21872.009766</td>\n",
              "      <td>0.289006</td>\n",
              "      <td>21360.267340</td>\n",
              "      <td>31032.771201</td>\n",
              "      <td>0</td>\n",
              "      <td>0</td>\n",
              "      <td>0</td>\n",
              "    </tr>\n",
              "    <tr>\n",
              "      <th>861</th>\n",
              "      <td>2022-04-11</td>\n",
              "      <td>21208.300781</td>\n",
              "      <td>-3.034513</td>\n",
              "      <td>21334.903792</td>\n",
              "      <td>31044.023463</td>\n",
              "      <td>1</td>\n",
              "      <td>1</td>\n",
              "      <td>0</td>\n",
              "    </tr>\n",
              "    <tr>\n",
              "      <th>862</th>\n",
              "      <td>2022-04-12</td>\n",
              "      <td>21319.130859</td>\n",
              "      <td>0.522579</td>\n",
              "      <td>21302.360849</td>\n",
              "      <td>31058.733144</td>\n",
              "      <td>0</td>\n",
              "      <td>0</td>\n",
              "      <td>0</td>\n",
              "    </tr>\n",
              "    <tr>\n",
              "      <th>863</th>\n",
              "      <td>2022-04-13</td>\n",
              "      <td>21374.369141</td>\n",
              "      <td>0.259102</td>\n",
              "      <td>21269.426434</td>\n",
              "      <td>31073.767452</td>\n",
              "      <td>0</td>\n",
              "      <td>0</td>\n",
              "      <td>0</td>\n",
              "    </tr>\n",
              "    <tr>\n",
              "      <th>864</th>\n",
              "      <td>2022-04-14</td>\n",
              "      <td>21518.080078</td>\n",
              "      <td>0.672352</td>\n",
              "      <td>21236.280054</td>\n",
              "      <td>31088.167403</td>\n",
              "      <td>0</td>\n",
              "      <td>0</td>\n",
              "      <td>0</td>\n",
              "    </tr>\n",
              "    <tr>\n",
              "      <th>865</th>\n",
              "      <td>2022-04-19</td>\n",
              "      <td>21027.759766</td>\n",
              "      <td>-2.278643</td>\n",
              "      <td>21205.457949</td>\n",
              "      <td>31101.280996</td>\n",
              "      <td>1</td>\n",
              "      <td>1</td>\n",
              "      <td>0</td>\n",
              "    </tr>\n",
              "    <tr>\n",
              "      <th>866</th>\n",
              "      <td>2022-04-20</td>\n",
              "      <td>20944.669922</td>\n",
              "      <td>-0.395144</td>\n",
              "      <td>21167.928222</td>\n",
              "      <td>31117.885373</td>\n",
              "      <td>1</td>\n",
              "      <td>1</td>\n",
              "      <td>0</td>\n",
              "    </tr>\n",
              "    <tr>\n",
              "      <th>867</th>\n",
              "      <td>2022-04-21</td>\n",
              "      <td>20682.220703</td>\n",
              "      <td>-1.253060</td>\n",
              "      <td>21130.905411</td>\n",
              "      <td>31134.427548</td>\n",
              "      <td>1</td>\n",
              "      <td>1</td>\n",
              "      <td>0</td>\n",
              "    </tr>\n",
              "    <tr>\n",
              "      <th>868</th>\n",
              "      <td>2022-04-22</td>\n",
              "      <td>20638.519531</td>\n",
              "      <td>-0.211298</td>\n",
              "      <td>21089.776323</td>\n",
              "      <td>31153.542077</td>\n",
              "      <td>1</td>\n",
              "      <td>1</td>\n",
              "      <td>0</td>\n",
              "    </tr>\n",
              "  </tbody>\n",
              "</table>\n",
              "</div>\n",
              "      <button class=\"colab-df-convert\" onclick=\"convertToInteractive('df-031b0c8b-ea73-4f44-b3fb-b1e67dd5886e')\"\n",
              "              title=\"Convert this dataframe to an interactive table.\"\n",
              "              style=\"display:none;\">\n",
              "        \n",
              "  <svg xmlns=\"http://www.w3.org/2000/svg\" height=\"24px\"viewBox=\"0 0 24 24\"\n",
              "       width=\"24px\">\n",
              "    <path d=\"M0 0h24v24H0V0z\" fill=\"none\"/>\n",
              "    <path d=\"M18.56 5.44l.94 2.06.94-2.06 2.06-.94-2.06-.94-.94-2.06-.94 2.06-2.06.94zm-11 1L8.5 8.5l.94-2.06 2.06-.94-2.06-.94L8.5 2.5l-.94 2.06-2.06.94zm10 10l.94 2.06.94-2.06 2.06-.94-2.06-.94-.94-2.06-.94 2.06-2.06.94z\"/><path d=\"M17.41 7.96l-1.37-1.37c-.4-.4-.92-.59-1.43-.59-.52 0-1.04.2-1.43.59L10.3 9.45l-7.72 7.72c-.78.78-.78 2.05 0 2.83L4 21.41c.39.39.9.59 1.41.59.51 0 1.02-.2 1.41-.59l7.78-7.78 2.81-2.81c.8-.78.8-2.07 0-2.86zM5.41 20L4 18.59l7.72-7.72 1.47 1.35L5.41 20z\"/>\n",
              "  </svg>\n",
              "      </button>\n",
              "      \n",
              "  <style>\n",
              "    .colab-df-container {\n",
              "      display:flex;\n",
              "      flex-wrap:wrap;\n",
              "      gap: 12px;\n",
              "    }\n",
              "\n",
              "    .colab-df-convert {\n",
              "      background-color: #E8F0FE;\n",
              "      border: none;\n",
              "      border-radius: 50%;\n",
              "      cursor: pointer;\n",
              "      display: none;\n",
              "      fill: #1967D2;\n",
              "      height: 32px;\n",
              "      padding: 0 0 0 0;\n",
              "      width: 32px;\n",
              "    }\n",
              "\n",
              "    .colab-df-convert:hover {\n",
              "      background-color: #E2EBFA;\n",
              "      box-shadow: 0px 1px 2px rgba(60, 64, 67, 0.3), 0px 1px 3px 1px rgba(60, 64, 67, 0.15);\n",
              "      fill: #174EA6;\n",
              "    }\n",
              "\n",
              "    [theme=dark] .colab-df-convert {\n",
              "      background-color: #3B4455;\n",
              "      fill: #D2E3FC;\n",
              "    }\n",
              "\n",
              "    [theme=dark] .colab-df-convert:hover {\n",
              "      background-color: #434B5C;\n",
              "      box-shadow: 0px 1px 3px 1px rgba(0, 0, 0, 0.15);\n",
              "      filter: drop-shadow(0px 1px 2px rgba(0, 0, 0, 0.3));\n",
              "      fill: #FFFFFF;\n",
              "    }\n",
              "  </style>\n",
              "\n",
              "      <script>\n",
              "        const buttonEl =\n",
              "          document.querySelector('#df-031b0c8b-ea73-4f44-b3fb-b1e67dd5886e button.colab-df-convert');\n",
              "        buttonEl.style.display =\n",
              "          google.colab.kernel.accessAllowed ? 'block' : 'none';\n",
              "\n",
              "        async function convertToInteractive(key) {\n",
              "          const element = document.querySelector('#df-031b0c8b-ea73-4f44-b3fb-b1e67dd5886e');\n",
              "          const dataTable =\n",
              "            await google.colab.kernel.invokeFunction('convertToInteractive',\n",
              "                                                     [key], {});\n",
              "          if (!dataTable) return;\n",
              "\n",
              "          const docLinkHtml = 'Like what you see? Visit the ' +\n",
              "            '<a target=\"_blank\" href=https://colab.research.google.com/notebooks/data_table.ipynb>data table notebook</a>'\n",
              "            + ' to learn more about interactive tables.';\n",
              "          element.innerHTML = '';\n",
              "          dataTable['output_type'] = 'display_data';\n",
              "          await google.colab.output.renderOutput(dataTable, element);\n",
              "          const docLink = document.createElement('div');\n",
              "          docLink.innerHTML = docLinkHtml;\n",
              "          element.appendChild(docLink);\n",
              "        }\n",
              "      </script>\n",
              "    </div>\n",
              "  </div>\n",
              "  "
            ]
          },
          "metadata": {},
          "execution_count": 171
        }
      ]
    },
    {
      "cell_type": "markdown",
      "source": [
        "?: Do we need to assign logic for consecutive trigger interm of day"
      ],
      "metadata": {
        "id": "1PQai-pLSqrQ"
      }
    },
    {
      "cell_type": "code",
      "source": [
        ""
      ],
      "metadata": {
        "id": "C6p45yYlSwgZ"
      },
      "execution_count": null,
      "outputs": []
    }
  ]
}