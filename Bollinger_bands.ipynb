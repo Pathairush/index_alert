{
  "cells": [
    {
      "cell_type": "markdown",
      "metadata": {
        "colab_type": "text",
        "id": "view-in-github"
      },
      "source": [
        "<a href=\"https://colab.research.google.com/github/Pathairush/index_alert/blob/main/Bollinger_bands.ipynb\" target=\"_parent\"><img src=\"https://colab.research.google.com/assets/colab-badge.svg\" alt=\"Open In Colab\"/></a>"
      ]
    },
    {
      "cell_type": "code",
      "execution_count": null,
      "metadata": {
        "colab": {
          "base_uri": "https://localhost:8080/"
        },
        "id": "MOEioWvQG0Pq",
        "outputId": "3cc485fd-8bf5-42a7-b35c-b52f1f681a05"
      },
      "outputs": [
        {
          "ename": "",
          "evalue": "",
          "output_type": "error",
          "traceback": [
            "\u001b[1;31mRunning cells with 'Python 3.7.5 ('index_alert')' requires ipykernel package.\n",
            "Run the following command to install 'ipykernel' into the Python environment. \n",
            "Command: 'conda install -n index_alert ipykernel --update-deps --force-reinstall'"
          ]
        }
      ],
      "source": [
        "# !pip install yfinance -q"
      ]
    },
    {
      "cell_type": "code",
      "execution_count": 1,
      "metadata": {
        "id": "ENxCRYcTGd-3"
      },
      "outputs": [],
      "source": [
        "import yfinance as yf\n",
        "import pandas as pd\n",
        "import numpy as np\n",
        "import datetime"
      ]
    },
    {
      "cell_type": "markdown",
      "metadata": {
        "id": "rTFOl6FdNoyU"
      },
      "source": [
        "# Module"
      ]
    },
    {
      "cell_type": "code",
      "execution_count": 17,
      "metadata": {
        "id": "S9fg8C6_NqtZ"
      },
      "outputs": [],
      "source": [
        "from operator import xor\n",
        "class BollinergerBands():\n",
        "\n",
        "    def __init__(self, rolling_period: int, stddev_boundary: int):\n",
        "        \n",
        "        self.rolling_period = rolling_period\n",
        "        self.stddev_boundary = stddev_boundary\n",
        "        self.fitted_data = None\n",
        "\n",
        "    @staticmethod\n",
        "    def _get_column_name(X: pd.DataFrame) -> list:\n",
        "        X.columns = [c.lower() for c in X.columns]\n",
        "        return X.columns.tolist()\n",
        "\n",
        "    def _check_required_columns(self, X: pd.DataFrame):\n",
        "        \n",
        "        input_column_names = self._get_column_name(X)\n",
        "        required_columns = ['date', 'high', 'low', 'close']\n",
        "        for col in required_columns:\n",
        "            if col not in input_column_names:\n",
        "                raise ValueError(f\"Expect: {required_columns}, Found: {input_column_names}\")\n",
        "        return True\n",
        "\n",
        "    def _check_minimum_period(self):\n",
        "\n",
        "        pass\n",
        "\n",
        "    def _preprocess_data(self, data: pd.DataFrame):\n",
        "\n",
        "        # calculate typical price\n",
        "        data.loc[:, 'typical_price'] = (data['high'] + data['low'] + data['close']) / 3\n",
        "\n",
        "        # calculate simple moving average\n",
        "        data.loc[:, f'sma_{self.rolling_period}'] = data['typical_price'].rolling(self.rolling_period).mean()\n",
        "        data.loc[:, f'std_{self.rolling_period}'] = data['typical_price'].rolling(self.rolling_period).std()\n",
        "\n",
        "        # calculate bollinger bands\n",
        "        data.loc[:, 'bolu'] = data[f'sma_{self.rolling_period}'] + self.stddev_boundary * data[f'std_{self.rolling_period}']\n",
        "        data.loc[:, 'bold'] = data[f'sma_{self.rolling_period}'] - self.stddev_boundary * data[f'std_{self.rolling_period}']\n",
        "\n",
        "        # use T-1 day bollinger band as a trigger criteria\n",
        "        data.loc[:, 'bolu_yesterday'] = data['bolu'].shift(1)\n",
        "        data.loc[:, 'bold_yesterday'] = data['bold'].shift(1)\n",
        "\n",
        "        # drop rows doesn't have enough data point the rolling period\n",
        "        data = data[data[f'sma_{self.rolling_period}'].notna()].copy()\n",
        "\n",
        "        # calculate historical trigger (day)\n",
        "        data.loc[:, 'trigger'] = np.where(~data['close'].between(data['bold_yesterday'], data['bolu_yesterday']), 1, 0)\n",
        "        data.loc[:, 'trigger_bolu'] = np.where(data['close'] > data['bolu_yesterday'], 1, 0)\n",
        "        data.loc[:, 'trigger_bold'] = np.where(data['close'] < data['bold_yesterday'], 1, 0)\n",
        "\n",
        "        # calculate percent change of index\n",
        "        data.loc[:, 'close_yesterday'] = data['close'].shift(1)\n",
        "        data.loc[:, 'pct_index_change'] = ((data['close'] / data['close_yesterday']) - 1) * 100\n",
        "\n",
        "        # calcualte year month for notificaiton reports\n",
        "        data.loc[:, 'year'] = data['date'].dt.year\n",
        "        data.loc[:, 'year_month'] = data['date'].dt.strftime(\"%Y-%m\")\n",
        "\n",
        "        self.fitted_data = data\n",
        "\n",
        "        return data\n",
        "\n",
        "    def fit(self, X: pd.DataFrame):\n",
        "\n",
        "        assert self._check_required_columns(X) == True\n",
        "\n",
        "        X = self._preprocess_data(X)\n",
        "\n",
        "        self.bold = float(X.tail(1)['bold'].values)\n",
        "        self.bolu = float(X.tail(1)['bolu'].values)\n",
        "\n",
        "    def plot_bollinger_bands(self):\n",
        "        \n",
        "        if self.fitted_data is None:\n",
        "            raise ValueError('Fitted data is not found, please call `fit` method')\n",
        "        \n",
        "        (\n",
        "            self.fitted_data\n",
        "            .loc[:, ['date','typical_price','bolu','bold']]\n",
        "            .set_index('date')\n",
        "            .plot.line(figsize=(9,6))\n",
        "        );\n",
        "\n",
        "    def plot_number_of_notifications(self, resolution: str, trigger_name: str):\n",
        "        '''\n",
        "        Plot number of notification ['trigger', 'trigger_bolu', 'trigger_bold'] by resolution ['year', 'year_month']\n",
        "        '''\n",
        "        \n",
        "        expect_resolution = ['year', 'year_month']\n",
        "        expect_trigger_name = ['trigger', 'trigger_bolu', 'trigger_bold']\n",
        "        \n",
        "        if resolution not in expect_resolution:\n",
        "            raise ValueError(f'resolution should be in {expect_resolution}, found : {resolution}')\n",
        "        \n",
        "        if trigger_name not in expect_trigger_name:\n",
        "            raise ValueError(f'trigger_name should be in {expect_resolution}, found : {resolution}')\n",
        "\n",
        "        self.fitted_data.groupby(resolution).agg({trigger_name:'sum'}).plot.bar(figsize=(12,6))"
      ]
    },
    {
      "cell_type": "markdown",
      "metadata": {
        "id": "Yp4QJvusPXwa"
      },
      "source": [
        "# Back test report"
      ]
    },
    {
      "cell_type": "code",
      "execution_count": 18,
      "metadata": {
        "id": "6qlr0DxFHHJ_"
      },
      "outputs": [],
      "source": [
        "index = yf.Ticker('^HSI')\n",
        "data = index.history(period='5y').reset_index()\n",
        "\n",
        "# input\n",
        "model = BollinergerBands(rolling_period = 365, stddev_boundary = 2)\n",
        "model.fit(X = data)"
      ]
    },
    {
      "cell_type": "code",
      "execution_count": 4,
      "metadata": {
        "colab": {
          "base_uri": "https://localhost:8080/"
        },
        "id": "xnBtVOMaWpNv",
        "outputId": "2e859b90-e8d2-4275-ca48-429f1f542384"
      },
      "outputs": [
        {
          "data": {
            "text/plain": [
              "20998.90651709035"
            ]
          },
          "execution_count": 4,
          "metadata": {},
          "output_type": "execute_result"
        }
      ],
      "source": [
        "model.bold"
      ]
    },
    {
      "cell_type": "code",
      "execution_count": 5,
      "metadata": {
        "colab": {
          "base_uri": "https://localhost:8080/"
        },
        "id": "do46tFAhajgI",
        "outputId": "cbfd9268-6d7b-4e87-da16-8eefb0d32b56"
      },
      "outputs": [
        {
          "data": {
            "text/plain": [
              "31199.12786504435"
            ]
          },
          "execution_count": 5,
          "metadata": {},
          "output_type": "execute_result"
        }
      ],
      "source": [
        "model.bolu"
      ]
    },
    {
      "cell_type": "code",
      "execution_count": 8,
      "metadata": {
        "colab": {
          "base_uri": "https://localhost:8080/",
          "height": 375
        },
        "id": "Xeiz1S_LJ69q",
        "outputId": "7daf3814-0a79-47dd-d54d-a82f6a2e69cb"
      },
      "outputs": [
        {
          "data": {
            "image/png": "[encoded data removed]",
            "text/plain": [
              "<Figure size 648x432 with 1 Axes>"
            ]
          },
          "metadata": {
            "needs_background": "light"
          },
          "output_type": "display_data"
        }
      ],
      "source": [
        "model.plot_bollinger_bands()"
      ]
    },
    {
      "cell_type": "code",
      "execution_count": 9,
      "metadata": {},
      "outputs": [],
      "source": [
        "data = model.fitted_data"
      ]
    },
    {
      "cell_type": "code",
      "execution_count": 19,
      "metadata": {
        "colab": {
          "base_uri": "https://localhost:8080/",
          "height": 403
        },
        "id": "o0IoOQUtML-L",
        "outputId": "9b4db397-9348-4b3e-e904-65b00d002d65"
      },
      "outputs": [
        {
          "data": {
            "image/png": "[encoded data removed]",
            "text/plain": [
              "<Figure size 864x432 with 1 Axes>"
            ]
          },
          "metadata": {
            "needs_background": "light"
          },
          "output_type": "display_data"
        }
      ],
      "source": [
        "# number of trigger per year\n",
        "model.plot_number_of_notifications(resolution = 'year', trigger_name = 'trigger')"
      ]
    },
    {
      "cell_type": "code",
      "execution_count": 20,
      "metadata": {
        "colab": {
          "base_uri": "https://localhost:8080/",
          "height": 421
        },
        "id": "RxqHv2uGMdFP",
        "outputId": "8c9e9c6e-2be2-4b3a-8c31-dd971ed3a9cb"
      },
      "outputs": [
        {
          "data": {
            "image/png": "[encoded data removed]",
            "text/plain": [
              "<Figure size 864x432 with 1 Axes>"
            ]
          },
          "metadata": {
            "needs_background": "light"
          },
          "output_type": "display_data"
        }
      ],
      "source": [
        "# overall trigger\n",
        "model.plot_number_of_notifications(resolution = 'year_month', trigger_name = 'trigger')"
      ]
    },
    {
      "cell_type": "code",
      "execution_count": 21,
      "metadata": {
        "colab": {
          "base_uri": "https://localhost:8080/",
          "height": 421
        },
        "id": "wKiQ3XNINwEs",
        "outputId": "751ea999-92dc-4514-a54f-de03ee6fc878"
      },
      "outputs": [
        {
          "data": {
            "image/png": "[encoded data removed]",
            "text/plain": [
              "<Figure size 864x432 with 1 Axes>"
            ]
          },
          "metadata": {
            "needs_background": "light"
          },
          "output_type": "display_data"
        }
      ],
      "source": [
        "# upside trigger\n",
        "model.plot_number_of_notifications(resolution = 'year_month', trigger_name = 'trigger_bolu')"
      ]
    },
    {
      "cell_type": "code",
      "execution_count": 22,
      "metadata": {
        "colab": {
          "base_uri": "https://localhost:8080/",
          "height": 421
        },
        "id": "wcwKutWiIXbO",
        "outputId": "2095fca7-774f-49de-a15c-659736038963"
      },
      "outputs": [
        {
          "data": {
            "image/png": "[encoded data removed]",
            "text/plain": [
              "<Figure size 864x432 with 1 Axes>"
            ]
          },
          "metadata": {
            "needs_background": "light"
          },
          "output_type": "display_data"
        }
      ],
      "source": [
        "# drawdown trigger\n",
        "model.plot_number_of_notifications(resolution = 'year_month', trigger_name = 'trigger_bold')"
      ]
    },
    {
      "cell_type": "markdown",
      "metadata": {
        "id": "JP5Kz7nNOBa2"
      },
      "source": [
        "# Bollinger bands behavior\n",
        "\n",
        "- all closing price in that day will compare to [`bold_yesterday`, `bolu_yesterday`] boundary.\n",
        "- `bold_yesterday` and `bolu_yesterday` would be update at the end of the day. (market close time + 1hr).\n",
        "- request data for market open / close time to use in the scheduling pipeline."
      ]
    },
    {
      "cell_type": "code",
      "execution_count": 14,
      "metadata": {
        "colab": {
          "base_uri": "https://localhost:8080/",
          "height": 404
        },
        "id": "8ki1OdzjQSr1",
        "outputId": "9dffb09a-54eb-4f57-ca86-deb5ebb1e8ce"
      },
      "outputs": [
        {
          "data": {
            "text/html": [
              "<div>\n",
              "<style scoped>\n",
              "    .dataframe tbody tr th:only-of-type {\n",
              "        vertical-align: middle;\n",
              "    }\n",
              "\n",
              "    .dataframe tbody tr th {\n",
              "        vertical-align: top;\n",
              "    }\n",
              "\n",
              "    .dataframe thead th {\n",
              "        text-align: right;\n",
              "    }\n",
              "</style>\n",
              "<table border=\"1\" class=\"dataframe\">\n",
              "  <thead>\n",
              "    <tr style=\"text-align: right;\">\n",
              "      <th></th>\n",
              "      <th>date</th>\n",
              "      <th>open</th>\n",
              "      <th>high</th>\n",
              "      <th>low</th>\n",
              "      <th>close</th>\n",
              "      <th>volume</th>\n",
              "      <th>dividends</th>\n",
              "      <th>stock splits</th>\n",
              "      <th>typical_price</th>\n",
              "      <th>sma_365</th>\n",
              "      <th>...</th>\n",
              "      <th>bold</th>\n",
              "      <th>bolu_yesterday</th>\n",
              "      <th>bold_yesterday</th>\n",
              "      <th>trigger</th>\n",
              "      <th>trigger_bolu</th>\n",
              "      <th>trigger_bold</th>\n",
              "      <th>close_yesterday</th>\n",
              "      <th>pct_index_change</th>\n",
              "      <th>year</th>\n",
              "      <th>year_month</th>\n",
              "    </tr>\n",
              "  </thead>\n",
              "  <tbody>\n",
              "    <tr>\n",
              "      <th>364</th>\n",
              "      <td>2018-10-15</td>\n",
              "      <td>25683.589844</td>\n",
              "      <td>25683.589844</td>\n",
              "      <td>25399.539062</td>\n",
              "      <td>25445.060547</td>\n",
              "      <td>1614888500</td>\n",
              "      <td>0</td>\n",
              "      <td>0</td>\n",
              "      <td>25509.396484</td>\n",
              "      <td>28565.446106</td>\n",
              "      <td>...</td>\n",
              "      <td>24554.819160</td>\n",
              "      <td>NaN</td>\n",
              "      <td>NaN</td>\n",
              "      <td>1</td>\n",
              "      <td>0</td>\n",
              "      <td>0</td>\n",
              "      <td>NaN</td>\n",
              "      <td>NaN</td>\n",
              "      <td>2018</td>\n",
              "      <td>2018-10</td>\n",
              "    </tr>\n",
              "    <tr>\n",
              "      <th>365</th>\n",
              "      <td>2018-10-16</td>\n",
              "      <td>25586.160156</td>\n",
              "      <td>25712.130859</td>\n",
              "      <td>25266.539062</td>\n",
              "      <td>25462.259766</td>\n",
              "      <td>1467251700</td>\n",
              "      <td>0</td>\n",
              "      <td>0</td>\n",
              "      <td>25480.309896</td>\n",
              "      <td>28568.484591</td>\n",
              "      <td>...</td>\n",
              "      <td>24568.937614</td>\n",
              "      <td>32576.073053</td>\n",
              "      <td>24554.819160</td>\n",
              "      <td>0</td>\n",
              "      <td>0</td>\n",
              "      <td>0</td>\n",
              "      <td>25445.060547</td>\n",
              "      <td>0.067594</td>\n",
              "      <td>2018</td>\n",
              "      <td>2018-10</td>\n",
              "    </tr>\n",
              "    <tr>\n",
              "      <th>366</th>\n",
              "      <td>2018-10-18</td>\n",
              "      <td>25674.660156</td>\n",
              "      <td>25674.660156</td>\n",
              "      <td>25261.720703</td>\n",
              "      <td>25454.550781</td>\n",
              "      <td>1764725000</td>\n",
              "      <td>0</td>\n",
              "      <td>0</td>\n",
              "      <td>25463.643880</td>\n",
              "      <td>28570.913287</td>\n",
              "      <td>...</td>\n",
              "      <td>24580.020484</td>\n",
              "      <td>32568.031568</td>\n",
              "      <td>24568.937614</td>\n",
              "      <td>0</td>\n",
              "      <td>0</td>\n",
              "      <td>0</td>\n",
              "      <td>25462.259766</td>\n",
              "      <td>-0.030276</td>\n",
              "      <td>2018</td>\n",
              "      <td>2018-10</td>\n",
              "    </tr>\n",
              "    <tr>\n",
              "      <th>367</th>\n",
              "      <td>2018-10-19</td>\n",
              "      <td>25172.029297</td>\n",
              "      <td>25743.449219</td>\n",
              "      <td>25090.300781</td>\n",
              "      <td>25561.400391</td>\n",
              "      <td>2037871700</td>\n",
              "      <td>0</td>\n",
              "      <td>0</td>\n",
              "      <td>25465.050130</td>\n",
              "      <td>28573.218411</td>\n",
              "      <td>...</td>\n",
              "      <td>24590.506732</td>\n",
              "      <td>32561.806089</td>\n",
              "      <td>24580.020484</td>\n",
              "      <td>0</td>\n",
              "      <td>0</td>\n",
              "      <td>0</td>\n",
              "      <td>25454.550781</td>\n",
              "      <td>0.419766</td>\n",
              "      <td>2018</td>\n",
              "      <td>2018-10</td>\n",
              "    </tr>\n",
              "    <tr>\n",
              "      <th>368</th>\n",
              "      <td>2018-10-22</td>\n",
              "      <td>25668.330078</td>\n",
              "      <td>26234.859375</td>\n",
              "      <td>25668.330078</td>\n",
              "      <td>26153.150391</td>\n",
              "      <td>2222812200</td>\n",
              "      <td>0</td>\n",
              "      <td>0</td>\n",
              "      <td>26018.779948</td>\n",
              "      <td>28577.036137</td>\n",
              "      <td>...</td>\n",
              "      <td>24606.851715</td>\n",
              "      <td>32555.930091</td>\n",
              "      <td>24590.506732</td>\n",
              "      <td>0</td>\n",
              "      <td>0</td>\n",
              "      <td>0</td>\n",
              "      <td>25561.400391</td>\n",
              "      <td>2.315014</td>\n",
              "      <td>2018</td>\n",
              "      <td>2018-10</td>\n",
              "    </tr>\n",
              "  </tbody>\n",
              "</table>\n",
              "<p>5 rows × 22 columns</p>\n",
              "</div>"
            ],
            "text/plain": [
              "          date          open          high           low         close  \\\n",
              "364 2018-10-15  25683.589844  25683.589844  25399.539062  25445.060547   \n",
              "365 2018-10-16  25586.160156  25712.130859  25266.539062  25462.259766   \n",
              "366 2018-10-18  25674.660156  25674.660156  25261.720703  25454.550781   \n",
              "367 2018-10-19  25172.029297  25743.449219  25090.300781  25561.400391   \n",
              "368 2018-10-22  25668.330078  26234.859375  25668.330078  26153.150391   \n",
              "\n",
              "         volume  dividends  stock splits  typical_price       sma_365  ...  \\\n",
              "364  1614888500          0             0   25509.396484  28565.446106  ...   \n",
              "365  1467251700          0             0   25480.309896  28568.484591  ...   \n",
              "366  1764725000          0             0   25463.643880  28570.913287  ...   \n",
              "367  2037871700          0             0   25465.050130  28573.218411  ...   \n",
              "368  2222812200          0             0   26018.779948  28577.036137  ...   \n",
              "\n",
              "             bold  bolu_yesterday  bold_yesterday  trigger  trigger_bolu  \\\n",
              "364  24554.819160             NaN             NaN        1             0   \n",
              "365  24568.937614    32576.073053    24554.819160        0             0   \n",
              "366  24580.020484    32568.031568    24568.937614        0             0   \n",
              "367  24590.506732    32561.806089    24580.020484        0             0   \n",
              "368  24606.851715    32555.930091    24590.506732        0             0   \n",
              "\n",
              "     trigger_bold  close_yesterday  pct_index_change  year  year_month  \n",
              "364             0              NaN               NaN  2018     2018-10  \n",
              "365             0     25445.060547          0.067594  2018     2018-10  \n",
              "366             0     25462.259766         -0.030276  2018     2018-10  \n",
              "367             0     25454.550781          0.419766  2018     2018-10  \n",
              "368             0     25561.400391          2.315014  2018     2018-10  \n",
              "\n",
              "[5 rows x 22 columns]"
            ]
          },
          "execution_count": 14,
          "metadata": {},
          "output_type": "execute_result"
        }
      ],
      "source": [
        "data.head()"
      ]
    },
    {
      "cell_type": "code",
      "execution_count": 16,
      "metadata": {
        "colab": {
          "base_uri": "https://localhost:8080/",
          "height": 721
        },
        "id": "1OS6IkljPfBd",
        "outputId": "afa877fb-69cc-4f7f-d24f-4cad10fb8e1f"
      },
      "outputs": [
        {
          "data": {
            "text/html": [
              "<div>\n",
              "<style scoped>\n",
              "    .dataframe tbody tr th:only-of-type {\n",
              "        vertical-align: middle;\n",
              "    }\n",
              "\n",
              "    .dataframe tbody tr th {\n",
              "        vertical-align: top;\n",
              "    }\n",
              "\n",
              "    .dataframe thead th {\n",
              "        text-align: right;\n",
              "    }\n",
              "</style>\n",
              "<table border=\"1\" class=\"dataframe\">\n",
              "  <thead>\n",
              "    <tr style=\"text-align: right;\">\n",
              "      <th></th>\n",
              "      <th>date</th>\n",
              "      <th>close</th>\n",
              "      <th>pct_index_change</th>\n",
              "      <th>bold_yesterday</th>\n",
              "      <th>bolu_yesterday</th>\n",
              "      <th>trigger</th>\n",
              "      <th>trigger_bold</th>\n",
              "      <th>trigger_bolu</th>\n",
              "    </tr>\n",
              "  </thead>\n",
              "  <tbody>\n",
              "    <tr>\n",
              "      <th>1213</th>\n",
              "      <td>2022-03-24</td>\n",
              "      <td>21945.949219</td>\n",
              "      <td>-0.939470</td>\n",
              "      <td>21572.901312</td>\n",
              "      <td>30935.260147</td>\n",
              "      <td>0</td>\n",
              "      <td>0</td>\n",
              "      <td>0</td>\n",
              "    </tr>\n",
              "    <tr>\n",
              "      <th>1214</th>\n",
              "      <td>2022-03-25</td>\n",
              "      <td>21404.880859</td>\n",
              "      <td>-2.465459</td>\n",
              "      <td>21557.942424</td>\n",
              "      <td>30942.810633</td>\n",
              "      <td>1</td>\n",
              "      <td>1</td>\n",
              "      <td>0</td>\n",
              "    </tr>\n",
              "    <tr>\n",
              "      <th>1215</th>\n",
              "      <td>2022-03-28</td>\n",
              "      <td>21684.970703</td>\n",
              "      <td>1.308533</td>\n",
              "      <td>21535.247729</td>\n",
              "      <td>30954.600872</td>\n",
              "      <td>0</td>\n",
              "      <td>0</td>\n",
              "      <td>0</td>\n",
              "    </tr>\n",
              "    <tr>\n",
              "      <th>1216</th>\n",
              "      <td>2022-03-29</td>\n",
              "      <td>21927.630859</td>\n",
              "      <td>1.119025</td>\n",
              "      <td>21510.296867</td>\n",
              "      <td>30967.126057</td>\n",
              "      <td>0</td>\n",
              "      <td>0</td>\n",
              "      <td>0</td>\n",
              "    </tr>\n",
              "    <tr>\n",
              "      <th>1217</th>\n",
              "      <td>2022-03-30</td>\n",
              "      <td>22232.029297</td>\n",
              "      <td>1.388196</td>\n",
              "      <td>21488.509142</td>\n",
              "      <td>30977.514952</td>\n",
              "      <td>0</td>\n",
              "      <td>0</td>\n",
              "      <td>0</td>\n",
              "    </tr>\n",
              "    <tr>\n",
              "      <th>1218</th>\n",
              "      <td>2022-03-31</td>\n",
              "      <td>21996.849609</td>\n",
              "      <td>-1.057842</td>\n",
              "      <td>21469.761926</td>\n",
              "      <td>30985.787225</td>\n",
              "      <td>0</td>\n",
              "      <td>0</td>\n",
              "      <td>0</td>\n",
              "    </tr>\n",
              "    <tr>\n",
              "      <th>1219</th>\n",
              "      <td>2022-04-01</td>\n",
              "      <td>22039.550781</td>\n",
              "      <td>0.194124</td>\n",
              "      <td>21448.934788</td>\n",
              "      <td>30995.112957</td>\n",
              "      <td>0</td>\n",
              "      <td>0</td>\n",
              "      <td>0</td>\n",
              "    </tr>\n",
              "    <tr>\n",
              "      <th>1220</th>\n",
              "      <td>2022-04-04</td>\n",
              "      <td>22502.310547</td>\n",
              "      <td>2.099679</td>\n",
              "      <td>21425.809172</td>\n",
              "      <td>31005.663088</td>\n",
              "      <td>0</td>\n",
              "      <td>0</td>\n",
              "      <td>0</td>\n",
              "    </tr>\n",
              "    <tr>\n",
              "      <th>1221</th>\n",
              "      <td>2022-04-06</td>\n",
              "      <td>22080.519531</td>\n",
              "      <td>-1.874434</td>\n",
              "      <td>21406.462972</td>\n",
              "      <td>31013.321050</td>\n",
              "      <td>0</td>\n",
              "      <td>0</td>\n",
              "      <td>0</td>\n",
              "    </tr>\n",
              "    <tr>\n",
              "      <th>1222</th>\n",
              "      <td>2022-04-07</td>\n",
              "      <td>21808.980469</td>\n",
              "      <td>-1.229768</td>\n",
              "      <td>21383.098893</td>\n",
              "      <td>31022.741293</td>\n",
              "      <td>0</td>\n",
              "      <td>0</td>\n",
              "      <td>0</td>\n",
              "    </tr>\n",
              "    <tr>\n",
              "      <th>1223</th>\n",
              "      <td>2022-04-08</td>\n",
              "      <td>21872.009766</td>\n",
              "      <td>0.289006</td>\n",
              "      <td>21360.267340</td>\n",
              "      <td>31032.771201</td>\n",
              "      <td>0</td>\n",
              "      <td>0</td>\n",
              "      <td>0</td>\n",
              "    </tr>\n",
              "    <tr>\n",
              "      <th>1224</th>\n",
              "      <td>2022-04-11</td>\n",
              "      <td>21208.300781</td>\n",
              "      <td>-3.034513</td>\n",
              "      <td>21334.903792</td>\n",
              "      <td>31044.023463</td>\n",
              "      <td>1</td>\n",
              "      <td>1</td>\n",
              "      <td>0</td>\n",
              "    </tr>\n",
              "    <tr>\n",
              "      <th>1225</th>\n",
              "      <td>2022-04-12</td>\n",
              "      <td>21319.130859</td>\n",
              "      <td>0.522579</td>\n",
              "      <td>21302.360849</td>\n",
              "      <td>31058.733144</td>\n",
              "      <td>0</td>\n",
              "      <td>0</td>\n",
              "      <td>0</td>\n",
              "    </tr>\n",
              "    <tr>\n",
              "      <th>1226</th>\n",
              "      <td>2022-04-13</td>\n",
              "      <td>21374.369141</td>\n",
              "      <td>0.259102</td>\n",
              "      <td>21269.426434</td>\n",
              "      <td>31073.767452</td>\n",
              "      <td>0</td>\n",
              "      <td>0</td>\n",
              "      <td>0</td>\n",
              "    </tr>\n",
              "    <tr>\n",
              "      <th>1227</th>\n",
              "      <td>2022-04-14</td>\n",
              "      <td>21518.080078</td>\n",
              "      <td>0.672352</td>\n",
              "      <td>21236.280054</td>\n",
              "      <td>31088.167403</td>\n",
              "      <td>0</td>\n",
              "      <td>0</td>\n",
              "      <td>0</td>\n",
              "    </tr>\n",
              "    <tr>\n",
              "      <th>1228</th>\n",
              "      <td>2022-04-19</td>\n",
              "      <td>21027.759766</td>\n",
              "      <td>-2.278643</td>\n",
              "      <td>21205.457949</td>\n",
              "      <td>31101.280996</td>\n",
              "      <td>1</td>\n",
              "      <td>1</td>\n",
              "      <td>0</td>\n",
              "    </tr>\n",
              "    <tr>\n",
              "      <th>1229</th>\n",
              "      <td>2022-04-20</td>\n",
              "      <td>20944.669922</td>\n",
              "      <td>-0.395144</td>\n",
              "      <td>21167.928222</td>\n",
              "      <td>31117.885373</td>\n",
              "      <td>1</td>\n",
              "      <td>1</td>\n",
              "      <td>0</td>\n",
              "    </tr>\n",
              "    <tr>\n",
              "      <th>1230</th>\n",
              "      <td>2022-04-21</td>\n",
              "      <td>20682.220703</td>\n",
              "      <td>-1.253060</td>\n",
              "      <td>21130.905411</td>\n",
              "      <td>31134.427548</td>\n",
              "      <td>1</td>\n",
              "      <td>1</td>\n",
              "      <td>0</td>\n",
              "    </tr>\n",
              "    <tr>\n",
              "      <th>1231</th>\n",
              "      <td>2022-04-22</td>\n",
              "      <td>20638.519531</td>\n",
              "      <td>-0.211298</td>\n",
              "      <td>21089.776323</td>\n",
              "      <td>31153.542077</td>\n",
              "      <td>1</td>\n",
              "      <td>1</td>\n",
              "      <td>0</td>\n",
              "    </tr>\n",
              "    <tr>\n",
              "      <th>1232</th>\n",
              "      <td>2022-04-25</td>\n",
              "      <td>19867.119141</td>\n",
              "      <td>-3.737673</td>\n",
              "      <td>21047.440663</td>\n",
              "      <td>31173.976203</td>\n",
              "      <td>1</td>\n",
              "      <td>1</td>\n",
              "      <td>0</td>\n",
              "    </tr>\n",
              "  </tbody>\n",
              "</table>\n",
              "</div>"
            ],
            "text/plain": [
              "           date         close  pct_index_change  bold_yesterday  \\\n",
              "1213 2022-03-24  21945.949219         -0.939470    21572.901312   \n",
              "1214 2022-03-25  21404.880859         -2.465459    21557.942424   \n",
              "1215 2022-03-28  21684.970703          1.308533    21535.247729   \n",
              "1216 2022-03-29  21927.630859          1.119025    21510.296867   \n",
              "1217 2022-03-30  22232.029297          1.388196    21488.509142   \n",
              "1218 2022-03-31  21996.849609         -1.057842    21469.761926   \n",
              "1219 2022-04-01  22039.550781          0.194124    21448.934788   \n",
              "1220 2022-04-04  22502.310547          2.099679    21425.809172   \n",
              "1221 2022-04-06  22080.519531         -1.874434    21406.462972   \n",
              "1222 2022-04-07  21808.980469         -1.229768    21383.098893   \n",
              "1223 2022-04-08  21872.009766          0.289006    21360.267340   \n",
              "1224 2022-04-11  21208.300781         -3.034513    21334.903792   \n",
              "1225 2022-04-12  21319.130859          0.522579    21302.360849   \n",
              "1226 2022-04-13  21374.369141          0.259102    21269.426434   \n",
              "1227 2022-04-14  21518.080078          0.672352    21236.280054   \n",
              "1228 2022-04-19  21027.759766         -2.278643    21205.457949   \n",
              "1229 2022-04-20  20944.669922         -0.395144    21167.928222   \n",
              "1230 2022-04-21  20682.220703         -1.253060    21130.905411   \n",
              "1231 2022-04-22  20638.519531         -0.211298    21089.776323   \n",
              "1232 2022-04-25  19867.119141         -3.737673    21047.440663   \n",
              "\n",
              "      bolu_yesterday  trigger  trigger_bold  trigger_bolu  \n",
              "1213    30935.260147        0             0             0  \n",
              "1214    30942.810633        1             1             0  \n",
              "1215    30954.600872        0             0             0  \n",
              "1216    30967.126057        0             0             0  \n",
              "1217    30977.514952        0             0             0  \n",
              "1218    30985.787225        0             0             0  \n",
              "1219    30995.112957        0             0             0  \n",
              "1220    31005.663088        0             0             0  \n",
              "1221    31013.321050        0             0             0  \n",
              "1222    31022.741293        0             0             0  \n",
              "1223    31032.771201        0             0             0  \n",
              "1224    31044.023463        1             1             0  \n",
              "1225    31058.733144        0             0             0  \n",
              "1226    31073.767452        0             0             0  \n",
              "1227    31088.167403        0             0             0  \n",
              "1228    31101.280996        1             1             0  \n",
              "1229    31117.885373        1             1             0  \n",
              "1230    31134.427548        1             1             0  \n",
              "1231    31153.542077        1             1             0  \n",
              "1232    31173.976203        1             1             0  "
            ]
          },
          "execution_count": 16,
          "metadata": {},
          "output_type": "execute_result"
        }
      ],
      "source": [
        "data[['date','close','pct_index_change','bold_yesterday', 'bolu_yesterday','trigger', 'trigger_bold', 'trigger_bolu']].tail(20)"
      ]
    },
    {
      "cell_type": "markdown",
      "metadata": {
        "id": "1PQai-pLSqrQ"
      },
      "source": [
        "?: Do we need to assign logic for consecutive trigger interm of day"
      ]
    },
    {
      "cell_type": "code",
      "execution_count": null,
      "metadata": {
        "id": "C6p45yYlSwgZ"
      },
      "outputs": [],
      "source": []
    }
  ],
  "metadata": {
    "colab": {
      "authorship_tag": "ABX9TyNHIE85SQGlDTTBpad/BaDq",
      "collapsed_sections": [],
      "include_colab_link": true,
      "name": "Bollinger bands",
      "provenance": []
    },
    "kernelspec": {
      "display_name": "Python 3",
      "name": "python3"
    },
    "language_info": {
      "codemirror_mode": {
        "name": "ipython",
        "version": 3
      },
      "file_extension": ".py",
      "mimetype": "text/x-python",
      "name": "python",
      "nbconvert_exporter": "python",
      "pygments_lexer": "ipython3",
      "version": "3.7.5"
    }
  },
  "nbformat": 4,
  "nbformat_minor": 0
}
